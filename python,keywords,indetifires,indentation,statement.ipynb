{
 "cells": [
  {
   "cell_type": "code",
   "execution_count": 1,
   "id": "96c5a6b3-a26b-4423-acf7-bb3f154129d7",
   "metadata": {},
   "outputs": [
    {
     "name": "stdout",
     "output_type": "stream",
     "text": [
      "this is the if keyword\n"
     ]
    }
   ],
   "source": [
    "x = 10\n",
    "if x < 15:\n",
    "    print(\"this is the if keyword\")"
   ]
  },
  {
   "cell_type": "code",
   "execution_count": 2,
   "id": "ea0bd10f-1dac-4834-9f26-8777fac07c15",
   "metadata": {},
   "outputs": [
    {
     "name": "stdout",
     "output_type": "stream",
     "text": [
      "1\n",
      "2\n",
      "3\n",
      "4\n",
      "5\n",
      "6\n",
      "7\n",
      "8\n"
     ]
    }
   ],
   "source": [
    "l =[1,2,3,4,5,6,7,8]\n",
    "for i in l:        # this is the for keyword \n",
    "    print(i)"
   ]
  },
  {
   "cell_type": "code",
   "execution_count": 3,
   "id": "1ccd481e-d60b-41bd-b75b-4e955c30e552",
   "metadata": {},
   "outputs": [
    {
     "name": "stdout",
     "output_type": "stream",
     "text": [
      "0\n",
      "1\n",
      "2\n",
      "3\n",
      "4\n",
      "5\n"
     ]
    }
   ],
   "source": [
    "i = 0\n",
    "while i <= 5:\n",
    "    print(i)  # this is the while keyword\n",
    "    i = i + 1"
   ]
  },
  {
   "cell_type": "code",
   "execution_count": 4,
   "id": "b42e1175-eaad-4264-9e7a-261cbb48d434",
   "metadata": {},
   "outputs": [],
   "source": [
    "def add(a,b):   # this is the return keyword\n",
    "    return a+b "
   ]
  },
  {
   "cell_type": "code",
   "execution_count": 6,
   "id": "6d4a230b-441b-4f31-b8de-89724f0b3ba3",
   "metadata": {},
   "outputs": [
    {
     "data": {
      "text/plain": [
       "5"
      ]
     },
     "execution_count": 6,
     "metadata": {},
     "output_type": "execute_result"
    }
   ],
   "source": [
    "add(2,3)"
   ]
  },
  {
   "cell_type": "code",
   "execution_count": 7,
   "id": "e9cbbb55-6fcc-42ee-8c19-8259a8c2c2d7",
   "metadata": {},
   "outputs": [],
   "source": [
    "def great(name):\n",
    "    print(name)"
   ]
  },
  {
   "cell_type": "code",
   "execution_count": 8,
   "id": "1cc9c405-c9da-459a-a024-ad7a082f2349",
   "metadata": {},
   "outputs": [
    {
     "name": "stdout",
     "output_type": "stream",
     "text": [
      "shashank\n"
     ]
    }
   ],
   "source": [
    "great(\"shashank\")"
   ]
  },
  {
   "cell_type": "markdown",
   "id": "91246fbb-2d47-4cc2-958a-420e226b2bdd",
   "metadata": {},
   "source": [
    "Describe the rules for defining identifiers in Python and provide an example"
   ]
  },
  {
   "cell_type": "code",
   "execution_count": 9,
   "id": "c00756d6-d839-44b9-af37-47b1c13ab0ab",
   "metadata": {},
   "outputs": [],
   "source": [
    " # valid identifiers \n",
    "    \n",
    "My_variable = 10 \n",
    "myclass = 20 \n",
    "Floating_point = 30\n",
    "\n",
    "# invalid identifiers \n",
    "\n",
    "#123_digit = 23445\n",
    "#@_sudh = 2345567"
   ]
  },
  {
   "cell_type": "markdown",
   "id": "97af7f2b-96d9-4901-b684-6fb6d328b157",
   "metadata": {},
   "source": [
    "What are comments in Python, and why are they useful Provide an example"
   ]
  },
  {
   "cell_type": "code",
   "execution_count": 10,
   "id": "c6830420-7243-4c4f-be32-74ead3b2a999",
   "metadata": {},
   "outputs": [
    {
     "name": "stdout",
     "output_type": "stream",
     "text": [
      "x is lesser than 15\n"
     ]
    }
   ],
   "source": [
    "# there are of two type of comments single line and multiline comments \n",
    "# this is the single line comment \n",
    "\"\"\" this is the multiline comment use remeber the concept in the follwing\n",
    "example and the code how to work\"\"\"\n",
    "x = 10 \n",
    "if x < 15:\n",
    "    print(\"x is lesser than 15\") # x is lesser than 15 : this is the another comment "
   ]
  },
  {
   "cell_type": "markdown",
   "id": "84fba18a-64ca-4986-84b6-a91610b743e9",
   "metadata": {},
   "source": [
    "Why is proper indentation important in Python"
   ]
  },
  {
   "cell_type": "code",
   "execution_count": 11,
   "id": "271d3f67-67c8-4431-8024-af0482e13af4",
   "metadata": {},
   "outputs": [
    {
     "name": "stdout",
     "output_type": "stream",
     "text": [
      "This statement is properly indented.\n",
      "It will be executed within the if block.\n"
     ]
    }
   ],
   "source": [
    "# Correct indentation\n",
    "if True:\n",
    "    print(\"This statement is properly indented.\")\n",
    "    print(\"It will be executed within the if block.\")"
   ]
  },
  {
   "cell_type": "markdown",
   "id": "84d5bfb2-e5a0-493d-861f-71a8319df218",
   "metadata": {},
   "source": [
    "What happens if indentation is incorrect in Python"
   ]
  },
  {
   "cell_type": "code",
   "execution_count": 12,
   "id": "260a431e-e06d-4497-8061-e426ee180acb",
   "metadata": {},
   "outputs": [],
   "source": [
    "# Syntax Errors: IndentationError:Logical Errors:\n",
    "#    # Incorrect indentation\n",
    "# if True:\n",
    "# print(\"This statement is not properly indented.\")\n",
    "# print(\"It will raise an IndentationError.\") "
   ]
  },
  {
   "cell_type": "code",
   "execution_count": 14,
   "id": "1b83b968-435f-42b0-a9d7-6b760086e2ed",
   "metadata": {},
   "outputs": [],
   "source": [
    "# Arithmetic expression\n",
    "result = 3 + 5 * (7 - 2)\n",
    "\n",
    "# String expression\n",
    "greeting = \"Hello, \" + \"world!\"\n",
    "\n",
    "# Function call expression\n",
    "length = len(\"Python\")"
   ]
  },
  {
   "cell_type": "code",
   "execution_count": 17,
   "id": "57db8efc-baf7-455e-8b29-29ceb9d4ec4c",
   "metadata": {},
   "outputs": [
    {
     "name": "stdout",
     "output_type": "stream",
     "text": [
      "x is greater than 5\n"
     ]
    }
   ],
   "source": [
    "# Assignment statement\n",
    "x = 10\n",
    "\n",
    "# Conditional statement (if-else)\n",
    "if x > 5:\n",
    "    print(\"x is greater than 5\")\n",
    "else:\n",
    "    print(\"x is not greater than\")"
   ]
  },
  {
   "cell_type": "code",
   "execution_count": null,
   "id": "34411374-8302-414f-ae52-40a864c86992",
   "metadata": {},
   "outputs": [],
   "source": []
  }
 ],
 "metadata": {
  "kernelspec": {
   "display_name": "Python 3 (ipykernel)",
   "language": "python",
   "name": "python3"
  },
  "language_info": {
   "codemirror_mode": {
    "name": "ipython",
    "version": 3
   },
   "file_extension": ".py",
   "mimetype": "text/x-python",
   "name": "python",
   "nbconvert_exporter": "python",
   "pygments_lexer": "ipython3",
   "version": "3.10.8"
  }
 },
 "nbformat": 4,
 "nbformat_minor": 5
}
